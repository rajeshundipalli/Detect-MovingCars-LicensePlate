{
 "cells": [
  {
   "cell_type": "markdown",
   "id": "2888d919",
   "metadata": {},
   "source": [
    "## Import Required libraries"
   ]
  },
  {
   "cell_type": "code",
   "execution_count": 1,
   "id": "5b183700",
   "metadata": {},
   "outputs": [],
   "source": [
    "import pandas as pd\n",
    "import cv2\n",
    "import numpy as np"
   ]
  },
  {
   "cell_type": "code",
   "execution_count": 2,
   "id": "83058c15",
   "metadata": {},
   "outputs": [
    {
     "data": {
      "text/html": [
       "<div>\n",
       "<style scoped>\n",
       "    .dataframe tbody tr th:only-of-type {\n",
       "        vertical-align: middle;\n",
       "    }\n",
       "\n",
       "    .dataframe tbody tr th {\n",
       "        vertical-align: top;\n",
       "    }\n",
       "\n",
       "    .dataframe thead th {\n",
       "        text-align: right;\n",
       "    }\n",
       "</style>\n",
       "<table border=\"1\" class=\"dataframe\">\n",
       "  <thead>\n",
       "    <tr style=\"text-align: right;\">\n",
       "      <th></th>\n",
       "      <th>type_id</th>\n",
       "      <th>size</th>\n",
       "      <th>stages</th>\n",
       "    </tr>\n",
       "  </thead>\n",
       "  <tbody>\n",
       "    <tr>\n",
       "      <th>0</th>\n",
       "      <td>opencv-haar-classifier</td>\n",
       "      <td>20 20</td>\n",
       "      <td>NaN</td>\n",
       "    </tr>\n",
       "  </tbody>\n",
       "</table>\n",
       "</div>"
      ],
      "text/plain": [
       "                  type_id   size  stages\n",
       "0  opencv-haar-classifier  20 20     NaN"
      ]
     },
     "execution_count": 2,
     "metadata": {},
     "output_type": "execute_result"
    }
   ],
   "source": [
    "pd.read_xml('Haarcascade_cars.xml')"
   ]
  },
  {
   "cell_type": "markdown",
   "id": "8f03c439",
   "metadata": {},
   "source": [
    "## Create classifier"
   ]
  },
  {
   "cell_type": "code",
   "execution_count": 3,
   "id": "29a34d25",
   "metadata": {},
   "outputs": [],
   "source": [
    "a = cv2.CascadeClassifier(\"Haarcascade_cars.xml\")"
   ]
  },
  {
   "cell_type": "markdown",
   "id": "26d15e9b",
   "metadata": {},
   "source": [
    "## Load the Video"
   ]
  },
  {
   "cell_type": "code",
   "execution_count": 4,
   "id": "ac028e09",
   "metadata": {},
   "outputs": [],
   "source": [
    "cap = cv2.VideoCapture('MovingCars.mp4') #If you want to display the Video File, just give the name of it inplace of 0\n",
    "\n",
    "# is a 4-byte identifier which specifies the format of a video stream\n",
    "\n",
    "fourcc = cv2.VideoWriter_fourcc('X','V','I','D') ## Define the codec and create VideoWriter object\n",
    "\n",
    "out = cv2.VideoWriter('OriginalVideo.avi', fourcc, 20.0, (640,480)) #No. of frames/s, Frame Size\n",
    "\n",
    "#Videos are just a sequence of Images\n",
    "#So, we will add a while loop to capture the frame continuously\n",
    "\n",
    "while True:\n",
    "    success, frame = cap.read() #frame variable will capture the Video & success variable will tell us whether it was captured successfully or not\n",
    "    \n",
    "    if success == True:\n",
    "        \n",
    "        out.write(frame)\n",
    "        \n",
    "        cv2.imshow(\"Video\", frame)\n",
    "    \n",
    "        if cv2.waitKey(1) == ord('q'): #This adds a Delay and looks for the key press inorder to break the loop\n",
    "            break\n",
    "            \n",
    "    else:\n",
    "        break\n",
    "        \n",
    "        \n",
    "cap.release() #Release the resources after recording\n",
    "out.release()\n",
    "cv2.destroyAllWindows()"
   ]
  },
  {
   "cell_type": "markdown",
   "id": "0ccba13f",
   "metadata": {},
   "source": [
    "## Detect Moving Cars using classifier and Display the results"
   ]
  },
  {
   "cell_type": "code",
   "execution_count": 5,
   "id": "0d155383",
   "metadata": {},
   "outputs": [],
   "source": [
    "    a = cv2.CascadeClassifier(\"Haarcascade_cars.xml\")\n",
    "    fourcc = cv2.VideoWriter_fourcc('X','V','I','D') \n",
    "    out = cv2.VideoWriter('DetectedVideo.avi', fourcc, 20.0, (640,480)) #No. of frames/s, Frame Size\n",
    "\n",
    "\n",
    "    cap = cv2.VideoCapture('MovingCars.mp4')\n",
    "    while True:\n",
    "        success, frame = cap.read()\n",
    "        #print(success,frame)\n",
    "        #controlkey = cv2.waitKey(1)\n",
    "        cars = a.detectMultiScale(frame, 1.20, 4)\n",
    "        for (x, y, w, h) in cars:\n",
    "            cv2.rectangle(frame, (x, y), (x+w,y+h), color=(0, 255, 0), thickness=2)\n",
    "        if success: \n",
    "            #cv2.imshow('frame', imgHor)                  \n",
    "            out.write(frame)\n",
    "            cv2.imshow('frame', frame)\n",
    "            \n",
    "            if cv2.waitKey(1)==ord('r'):\n",
    "                break\n",
    "        else:\n",
    "            break\n",
    "       \n",
    "\n",
    "    cap.release()\n",
    "    out.release()\n",
    "    cv2.destroyAllWindows()\n"
   ]
  },
  {
   "cell_type": "code",
   "execution_count": null,
   "id": "a1e8caeb",
   "metadata": {},
   "outputs": [],
   "source": []
  },
  {
   "cell_type": "code",
   "execution_count": null,
   "id": "70324996",
   "metadata": {},
   "outputs": [],
   "source": []
  },
  {
   "cell_type": "code",
   "execution_count": null,
   "id": "657f7969",
   "metadata": {},
   "outputs": [],
   "source": []
  },
  {
   "cell_type": "code",
   "execution_count": null,
   "id": "352a1a3a",
   "metadata": {},
   "outputs": [],
   "source": []
  },
  {
   "cell_type": "code",
   "execution_count": null,
   "id": "a208d462",
   "metadata": {},
   "outputs": [],
   "source": []
  },
  {
   "cell_type": "code",
   "execution_count": null,
   "id": "f29033ff",
   "metadata": {},
   "outputs": [],
   "source": []
  },
  {
   "cell_type": "code",
   "execution_count": null,
   "id": "e87d57cd",
   "metadata": {},
   "outputs": [],
   "source": []
  },
  {
   "cell_type": "code",
   "execution_count": null,
   "id": "4704440c",
   "metadata": {},
   "outputs": [],
   "source": []
  },
  {
   "cell_type": "code",
   "execution_count": null,
   "id": "884aebf5",
   "metadata": {},
   "outputs": [],
   "source": []
  }
 ],
 "metadata": {
  "kernelspec": {
   "display_name": "Python 3 (ipykernel)",
   "language": "python",
   "name": "python3"
  },
  "language_info": {
   "codemirror_mode": {
    "name": "ipython",
    "version": 3
   },
   "file_extension": ".py",
   "mimetype": "text/x-python",
   "name": "python",
   "nbconvert_exporter": "python",
   "pygments_lexer": "ipython3",
   "version": "3.9.7"
  }
 },
 "nbformat": 4,
 "nbformat_minor": 5
}
